{
 "cells": [
  {
   "cell_type": "code",
   "execution_count": 4,
   "id": "bbd3df08",
   "metadata": {},
   "outputs": [
    {
     "name": "stdout",
     "output_type": "stream",
     "text": [
      "Financial Analysis\n",
      "-----------------------------\n",
      "Total Months: 86\n",
      "Total: $22564198\n",
      "Average Change: $4500.46\n",
      "Greatest Increase in Profits: Aug-16 ($1862002)\n",
      "Greatest Decrease in Profits: Feb-14 ($-1825558)\n"
     ]
    }
   ],
   "source": [
    "import csv\n",
    "\n",
    "# Open the CSV file\n",
    "with open('/Users/aldosilva/Downloads/Starter_Code/PyBank/Resources/budget_data.csv', 'r') as file:\n",
    "    # Create a CSV reader object\n",
    "    csv_reader = csv.reader(file)\n",
    "    \n",
    "    # Skip the header row\n",
    "    header = next(csv_reader)\n",
    "    \n",
    "    # Initialize variables\n",
    "    total_months = 0\n",
    "    net_profit_losses = 0\n",
    "    previous_profit_loss = 0\n",
    "    total_change = 0\n",
    "    greatest_increase = ['', 0]\n",
    "    greatest_decrease = ['', 0]\n",
    "    \n",
    "    # Iterate over the rows in the CSV file\n",
    "    for row in csv_reader:\n",
    "        # Increment the total number of months\n",
    "        total_months += 1\n",
    "        \n",
    "        # Extract the date and profit/losses from the row\n",
    "        date = row[0]\n",
    "        profit_loss = int(row[1])\n",
    "        \n",
    "        # Calculate the net profit/losses\n",
    "        net_profit_losses += profit_loss\n",
    "        \n",
    "        # Calculate the change in profit/losses\n",
    "        change = profit_loss - previous_profit_loss\n",
    "        total_change += change\n",
    "        \n",
    "        # Update the previous profit/losses for the next iteration\n",
    "        previous_profit_loss = profit_loss\n",
    "        \n",
    "        # Check if the current change is the greatest increase\n",
    "        if change > greatest_increase[1]:\n",
    "            greatest_increase = [date, change]\n",
    "        \n",
    "        # Check if the current change is the greatest decrease\n",
    "        if change < greatest_decrease[1]:\n",
    "            greatest_decrease = [date, change]\n",
    "    \n",
    "    # Calculate the average change\n",
    "    average_change = total_change / (total_months - 1)\n",
    "    \n",
    "    # Print the results\n",
    "    print(\"Financial Analysis\")\n",
    "    print(\"-----------------------------\")\n",
    "    print(f\"Total Months: {total_months}\")\n",
    "    print(f\"Total: ${net_profit_losses}\")\n",
    "    print(f\"Average Change: ${average_change:.2f}\")\n",
    "    print(f\"Greatest Increase in Profits: {greatest_increase[0]} (${greatest_increase[1]})\")\n",
    "    print(f\"Greatest Decrease in Profits: {greatest_decrease[0]} (${greatest_decrease[1]})\")\n"
   ]
  },
  {
   "cell_type": "code",
   "execution_count": 12,
   "id": "161d62e3",
   "metadata": {},
   "outputs": [
    {
     "name": "stdout",
     "output_type": "stream",
     "text": [
      "Results exported to /Users/aldosilva/Downloads/Starter_Code/PyBank/results.txt\n"
     ]
    }
   ],
   "source": [
    "# Prepare the results as a string\n",
    "results = [\n",
    "        \"Financial Analysis\",\n",
    "        \"----------------------------\",\n",
    "        f\"Total Months: {total_months}\",\n",
    "        f\"Total: ${net_profit_losses}\",\n",
    "        f\"Average Change: ${average_change:.2f}\",\n",
    "        f\"Greatest Increase in Profits: {greatest_increase[0]} (${greatest_increase[1]})\",\n",
    "        f\"Greatest Decrease in Profits: {greatest_decrease[0]} (${greatest_decrease[1]})\"\n",
    "    ]\n",
    "\n",
    "# Save the results to a text file\n",
    "output_file = \"/Users/aldosilva/Downloads/Starter_Code/PyBank/results.txt\"\n",
    "with open(output_file, \"w\") as file:\n",
    "    file.write(\"\\n\".join(results))\n",
    "\n",
    "print(\"Results exported to\", output_file)"
   ]
  },
  {
   "cell_type": "code",
   "execution_count": null,
   "id": "07143f60",
   "metadata": {},
   "outputs": [],
   "source": []
  }
 ],
 "metadata": {
  "kernelspec": {
   "display_name": "Python 3 (ipykernel)",
   "language": "python",
   "name": "python3"
  },
  "language_info": {
   "codemirror_mode": {
    "name": "ipython",
    "version": 3
   },
   "file_extension": ".py",
   "mimetype": "text/x-python",
   "name": "python",
   "nbconvert_exporter": "python",
   "pygments_lexer": "ipython3",
   "version": "3.9.13"
  }
 },
 "nbformat": 4,
 "nbformat_minor": 5
}
