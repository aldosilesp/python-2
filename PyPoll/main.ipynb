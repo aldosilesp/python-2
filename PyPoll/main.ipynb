{
 "cells": [
  {
   "cell_type": "code",
   "execution_count": 2,
   "id": "824d93a3",
   "metadata": {},
   "outputs": [
    {
     "name": "stdout",
     "output_type": "stream",
     "text": [
      "Election Results\n",
      "-------------------------\n",
      "Total Votes: 369711\n",
      "-------------------------\n",
      "Charles Casper Stockham: 23.05% (85213)\n",
      "Diana DeGette: 73.81% (272892)\n",
      "Raymon Anthony Doane: 3.14% (11606)\n",
      "-------------------------\n",
      "Winner: Diana DeGette\n",
      "-------------------------\n"
     ]
    }
   ],
   "source": [
    "import csv\n",
    "\n",
    "# Initialize variables\n",
    "total_votes = 0\n",
    "candidates = {}\n",
    "\n",
    "# Open the CSV file\n",
    "with open('/Users/aldosilva/Downloads/Starter_Code/PyPoll/Resources/election_data.csv', 'r') as file:\n",
    "    csv_reader = csv.reader(file)\n",
    "    \n",
    "    # Skip the header row\n",
    "    next(csv_reader)\n",
    "    \n",
    "    # Iterate over each row in the CSV file\n",
    "    for row in csv_reader:\n",
    "        # Increment the total vote count\n",
    "        total_votes += 1\n",
    "        \n",
    "        # Get the candidate's name from the row\n",
    "        candidate = row[2]\n",
    "        \n",
    "        # Check if the candidate is already in the dictionary\n",
    "        if candidate in candidates:\n",
    "            candidates[candidate] += 1\n",
    "        else:\n",
    "            candidates[candidate] = 1\n",
    "\n",
    "# Calculate the percentage of votes for each candidate\n",
    "percentages = {}\n",
    "for candidate, votes in candidates.items():\n",
    "    percentage = (votes / total_votes) * 100\n",
    "    percentages[candidate] = round(percentage, 2)\n",
    "\n",
    "# Find the winner based on popular vote\n",
    "winner = max(candidates, key=candidates.get)\n",
    "\n",
    "# Print the results\n",
    "print(\"Election Results\")\n",
    "print(\"-------------------------\")\n",
    "print(f\"Total Votes: {total_votes}\")\n",
    "print(\"-------------------------\")\n",
    "for candidate, votes in candidates.items():\n",
    "    percentage = percentages[candidate]\n",
    "    print(f\"{candidate}: {percentage}% ({votes})\")\n",
    "print(\"-------------------------\")\n",
    "print(f\"Winner: {winner}\")\n",
    "print(\"-------------------------\")"
   ]
  },
  {
   "cell_type": "code",
   "execution_count": 7,
   "id": "981a33ea",
   "metadata": {},
   "outputs": [],
   "source": [
    "# Convert the results to a string\n",
    "results_string = \"\"\n",
    "results_string += \"Election Results\\n\"\n",
    "results_string += \"-------------------------\\n\"\n",
    "results_string += f\"Total Votes: {total_votes}\\n\"\n",
    "results_string += \"-------------------------\\n\"\n",
    "for candidate, votes in candidates.items():\n",
    "    percentage = percentages[candidate]\n",
    "    results_string += f\"{candidate}: {percentage}% ({votes})\\n\"\n",
    "results_string += \"-------------------------\\n\"\n",
    "results_string += f\"Winner: {winner}\\n\"\n",
    "results_string += \"-------------------------\\n\""
   ]
  },
  {
   "cell_type": "code",
   "execution_count": 8,
   "id": "fb4394a9",
   "metadata": {},
   "outputs": [
    {
     "data": {
      "text/plain": [
       "'Election Results\\n-------------------------\\nTotal Votes: 369711\\n-------------------------\\nCharles Casper Stockham: 23.05% (85213)\\nDiana DeGette: 73.81% (272892)\\nRaymon Anthony Doane: 3.14% (11606)\\n-------------------------\\nWinner: Diana DeGette\\n-------------------------\\n'"
      ]
     },
     "execution_count": 8,
     "metadata": {},
     "output_type": "execute_result"
    }
   ],
   "source": [
    "results_string"
   ]
  },
  {
   "cell_type": "code",
   "execution_count": 9,
   "id": "3e903534",
   "metadata": {},
   "outputs": [
    {
     "name": "stdout",
     "output_type": "stream",
     "text": [
      "Results exported to: /Users/aldosilva/Downloads/Starter_Code/PyPoll/results.txt\n"
     ]
    }
   ],
   "source": [
    "# Save the results to a text file\n",
    "output_file = \"/Users/aldosilva/Downloads/Starter_Code/PyPoll/results.txt\"\n",
    "with open(output_file, \"w\") as file:\n",
    "    file.write(results_string)\n",
    "\n",
    "print(\"Results exported to:\", output_file)"
   ]
  },
  {
   "cell_type": "code",
   "execution_count": null,
   "id": "75ae4076",
   "metadata": {},
   "outputs": [],
   "source": []
  }
 ],
 "metadata": {
  "kernelspec": {
   "display_name": "Python 3 (ipykernel)",
   "language": "python",
   "name": "python3"
  },
  "language_info": {
   "codemirror_mode": {
    "name": "ipython",
    "version": 3
   },
   "file_extension": ".py",
   "mimetype": "text/x-python",
   "name": "python",
   "nbconvert_exporter": "python",
   "pygments_lexer": "ipython3",
   "version": "3.9.13"
  }
 },
 "nbformat": 4,
 "nbformat_minor": 5
}
